{
 "cells": [
  {
   "cell_type": "code",
   "execution_count": null,
   "id": "5b12d528",
   "metadata": {},
   "outputs": [],
   "source": [
    "print(\"shiva\")"
   ]
  },
  {
   "cell_type": "code",
   "execution_count": null,
   "id": "961cc0d0",
   "metadata": {},
   "outputs": [],
   "source": [
    "def som():\n",
    "    print(\"shiva\");"
   ]
  },
  {
   "cell_type": "code",
   "execution_count": null,
   "id": "d863803a",
   "metadata": {},
   "outputs": [],
   "source": [
    "x = 10\n",
    "y = 15"
   ]
  },
  {
   "cell_type": "code",
   "execution_count": null,
   "id": "b42b5098",
   "metadata": {},
   "outputs": [],
   "source": [
    "# x = 10\n",
    "# def addition():\n",
    "#     x=5\n",
    "#     print(x)\n",
    "    \n"
   ]
  },
  {
   "cell_type": "code",
   "execution_count": null,
   "id": "aae14f85",
   "metadata": {},
   "outputs": [],
   "source": [
    "# addition()\n",
    "# print(x)"
   ]
  },
  {
   "cell_type": "code",
   "execution_count": null,
   "id": "e87e0722",
   "metadata": {},
   "outputs": [],
   "source": [
    "x=10\n",
    "def sh():\n",
    "    global x\n",
    "    x+=5\n",
    "    print(x)\n"
   ]
  },
  {
   "cell_type": "code",
   "execution_count": null,
   "id": "4c049d30",
   "metadata": {},
   "outputs": [],
   "source": [
    "sh()\n",
    "print(x)\n"
   ]
  },
  {
   "cell_type": "code",
   "execution_count": 2,
   "id": "068addd1",
   "metadata": {},
   "outputs": [],
   "source": [
    "add=lambda a,b:a+b"
   ]
  },
  {
   "cell_type": "code",
   "execution_count": 3,
   "id": "eb09ef34",
   "metadata": {},
   "outputs": [
    {
     "data": {
      "text/plain": [
       "7"
      ]
     },
     "execution_count": 3,
     "metadata": {},
     "output_type": "execute_result"
    }
   ],
   "source": [
    "add(2,5)"
   ]
  },
  {
   "cell_type": "code",
   "execution_count": 9,
   "id": "96c8588b",
   "metadata": {},
   "outputs": [],
   "source": [
    "a=[('som',5),('nidhi',20),('khusi',3)]\n"
   ]
  },
  {
   "cell_type": "code",
   "execution_count": 19,
   "id": "699bcb4c",
   "metadata": {},
   "outputs": [
    {
     "data": {
      "text/plain": [
       "[('nidhi', 20), ('som', 5), ('khusi', 3)]"
      ]
     },
     "execution_count": 19,
     "metadata": {},
     "output_type": "execute_result"
    }
   ],
   "source": [
    "sorted(a, key=lambda x:-x[1])"
   ]
  },
  {
   "cell_type": "code",
   "execution_count": 2,
   "id": "33ccfc44",
   "metadata": {},
   "outputs": [
    {
     "name": "stdout",
     "output_type": "stream",
     "text": [
      "1\n"
     ]
    }
   ],
   "source": [
    "print(5//3)"
   ]
  },
  {
   "cell_type": "code",
   "execution_count": 3,
   "id": "50fe7cc8",
   "metadata": {},
   "outputs": [
    {
     "data": {
      "text/plain": [
       "1.67"
      ]
     },
     "execution_count": 3,
     "metadata": {},
     "output_type": "execute_result"
    }
   ],
   "source": [
    "a= 5/3\n",
    "round(a,2)"
   ]
  },
  {
   "cell_type": "code",
   "execution_count": 6,
   "id": "46ecc2e3",
   "metadata": {},
   "outputs": [
    {
     "ename": "SyntaxError",
     "evalue": "invalid syntax (Temp/ipykernel_24484/557423902.py, line 1)",
     "output_type": "error",
     "traceback": [
      "\u001b[1;36m  File \u001b[1;32m\"C:\\Users\\2001s\\AppData\\Local\\Temp/ipykernel_24484/557423902.py\"\u001b[1;36m, line \u001b[1;32m1\u001b[0m\n\u001b[1;33m    a b,c=123222,564,93\u001b[0m\n\u001b[1;37m      ^\u001b[0m\n\u001b[1;31mSyntaxError\u001b[0m\u001b[1;31m:\u001b[0m invalid syntax\n"
     ]
    }
   ],
   "source": [
    "a b,c=123222,564,93"
   ]
  },
  {
   "cell_type": "code",
   "execution_count": 7,
   "id": "0f318b51",
   "metadata": {},
   "outputs": [
    {
     "ename": "TypeError",
     "evalue": "can only concatenate str (not \"int\") to str",
     "output_type": "error",
     "traceback": [
      "\u001b[1;31m---------------------------------------------------------------------------\u001b[0m",
      "\u001b[1;31mTypeError\u001b[0m                                 Traceback (most recent call last)",
      "\u001b[1;32m~\\AppData\\Local\\Temp/ipykernel_24484/1695050352.py\u001b[0m in \u001b[0;36m<module>\u001b[1;34m\u001b[0m\n\u001b[1;32m----> 1\u001b[1;33m \u001b[1;34m'Coding'\u001b[0m \u001b[1;33m+\u001b[0m \u001b[1;36m1\u001b[0m \u001b[1;33m+\u001b[0m \u001b[1;36m1\u001b[0m \u001b[1;33m+\u001b[0m \u001b[1;34m'Blocks'\u001b[0m\u001b[1;33m\u001b[0m\u001b[1;33m\u001b[0m\u001b[0m\n\u001b[0m",
      "\u001b[1;31mTypeError\u001b[0m: can only concatenate str (not \"int\") to str"
     ]
    }
   ],
   "source": [
    "'Coding' + 1 + 1 + 'Blocks'"
   ]
  },
  {
   "cell_type": "code",
   "execution_count": 8,
   "id": "106eb910",
   "metadata": {},
   "outputs": [
    {
     "name": "stdout",
     "output_type": "stream",
     "text": [
      "CodingBlocks\n"
     ]
    }
   ],
   "source": [
    "print(\"Coding\"     \"Blocks\")"
   ]
  },
  {
   "cell_type": "code",
   "execution_count": 9,
   "id": "19227fb6",
   "metadata": {},
   "outputs": [
    {
     "data": {
      "text/plain": [
       "['coding', 'and', 'Python']"
      ]
     },
     "execution_count": 9,
     "metadata": {},
     "output_type": "execute_result"
    }
   ],
   "source": [
    "'coding and Python'.split()"
   ]
  },
  {
   "cell_type": "code",
   "execution_count": 11,
   "id": "6c473ed1",
   "metadata": {},
   "outputs": [
    {
     "name": "stdout",
     "output_type": "stream",
     "text": [
      "<class 'tuple'>\n"
     ]
    }
   ],
   "source": [
    "s=('CodingBlocks',)\n",
    "print( type(s))"
   ]
  },
  {
   "cell_type": "code",
   "execution_count": 1,
   "id": "80021aef",
   "metadata": {},
   "outputs": [
    {
     "name": "stdout",
     "output_type": "stream",
     "text": [
      "31\n"
     ]
    }
   ],
   "source": [
    "string='I study Python at Coding Blocks'\n",
    "a=len(string)\n",
    "print(a)"
   ]
  },
  {
   "cell_type": "code",
   "execution_count": 2,
   "id": "8691cbe2",
   "metadata": {},
   "outputs": [
    {
     "name": "stdout",
     "output_type": "stream",
     "text": [
      "Codingblocks\n"
     ]
    }
   ],
   "source": [
    "str='codingBlocks'\n",
    "print(str.capitalize())"
   ]
  },
  {
   "cell_type": "code",
   "execution_count": 7,
   "id": "c4895359",
   "metadata": {},
   "outputs": [
    {
     "data": {
      "text/plain": [
       "'CODING blocks CODING blocks coding blocks coding blocks'"
      ]
     },
     "execution_count": 7,
     "metadata": {},
     "output_type": "execute_result"
    }
   ],
   "source": [
    " a='coding blocks coding blocks coding blocks coding blocks'\n",
    " a.replace('coding','CODING',2)"
   ]
  },
  {
   "cell_type": "code",
   "execution_count": 21,
   "id": "ba4e8498",
   "metadata": {},
   "outputs": [
    {
     "name": "stdout",
     "output_type": "stream",
     "text": [
      "yth\n"
     ]
    }
   ],
   "source": [
    "string = 'I study Python'\n",
    "print(string[-5:-2])"
   ]
  },
  {
   "cell_type": "code",
   "execution_count": 9,
   "id": "adf37be1",
   "metadata": {},
   "outputs": [
    {
     "name": "stdout",
     "output_type": "stream",
     "text": [
      "1\n"
     ]
    }
   ],
   "source": [
    "str='codingBlocks'\n",
    "print(str.find('o'))"
   ]
  },
  {
   "cell_type": "code",
   "execution_count": 17,
   "id": "1be6241d",
   "metadata": {},
   "outputs": [
    {
     "name": "stdout",
     "output_type": "stream",
     "text": [
      "3\n",
      "4\n",
      "Tanya\n"
     ]
    }
   ],
   "source": [
    "t = ('Tanya', 'ate', '3', 'apples')\n",
    "print(t[2])\n",
    "# t[2]= 4\n",
    "print(len(t))\n",
    "print(t[0])"
   ]
  },
  {
   "cell_type": "code",
   "execution_count": 18,
   "id": "b4751033",
   "metadata": {},
   "outputs": [
    {
     "name": "stdout",
     "output_type": "stream",
     "text": [
      "IsuyP\n"
     ]
    }
   ],
   "source": [
    "string='I study Python at Coding Blocks'\n",
    "print(string[0:9:2])"
   ]
  },
  {
   "cell_type": "code",
   "execution_count": 20,
   "id": "ea1299b3",
   "metadata": {},
   "outputs": [
    {
     "ename": "TypeError",
     "evalue": "'str' object does not support item assignment",
     "output_type": "error",
     "traceback": [
      "\u001b[1;31m---------------------------------------------------------------------------\u001b[0m",
      "\u001b[1;31mTypeError\u001b[0m                                 Traceback (most recent call last)",
      "\u001b[1;32m~\\AppData\\Local\\Temp/ipykernel_14508/103411875.py\u001b[0m in \u001b[0;36m<module>\u001b[1;34m\u001b[0m\n\u001b[0;32m      1\u001b[0m \u001b[0mstring\u001b[0m\u001b[1;33m=\u001b[0m\u001b[1;34m'I study Python'\u001b[0m\u001b[1;33m\u001b[0m\u001b[1;33m\u001b[0m\u001b[0m\n\u001b[1;32m----> 2\u001b[1;33m \u001b[0mstring\u001b[0m\u001b[1;33m[\u001b[0m\u001b[1;36m2\u001b[0m\u001b[1;33m]\u001b[0m\u001b[1;33m=\u001b[0m\u001b[1;34m'z'\u001b[0m\u001b[1;33m\u001b[0m\u001b[1;33m\u001b[0m\u001b[0m\n\u001b[0m\u001b[0;32m      3\u001b[0m \u001b[0mstring\u001b[0m\u001b[1;33m[\u001b[0m\u001b[1;36m7\u001b[0m\u001b[1;33m]\u001b[0m\u001b[1;33m=\u001b[0m\u001b[1;34m'-'\u001b[0m\u001b[1;33m\u001b[0m\u001b[1;33m\u001b[0m\u001b[0m\n",
      "\u001b[1;31mTypeError\u001b[0m: 'str' object does not support item assignment"
     ]
    }
   ],
   "source": [
    "string='I study Python'\n",
    "string[2]='z'\n",
    "string[7]='-'"
   ]
  },
  {
   "cell_type": "code",
   "execution_count": null,
   "id": "1a96b647",
   "metadata": {},
   "outputs": [],
   "source": [
    "while 5==5:\n",
    "   print('CODING BLOCK'"
   ]
  },
  {
   "cell_type": "code",
   "execution_count": 6,
   "id": "bd271f9d",
   "metadata": {},
   "outputs": [
    {
     "name": "stdout",
     "output_type": "stream",
     "text": [
      "4\n"
     ]
    }
   ],
   "source": [
    "i = sum = 0\n",
    "\n",
    "while i <= 1:\n",
    "  sum += i\n",
    "  i = i+1\n",
    "\n",
    "print(sum)"
   ]
  },
  {
   "cell_type": "code",
   "execution_count": 7,
   "id": "3dfddd13",
   "metadata": {},
   "outputs": [
    {
     "name": "stdout",
     "output_type": "stream",
     "text": [
      "7\n",
      "3\n"
     ]
    }
   ],
   "source": [
    "for i in [6, 2]:\n",
    "  print(i+1)"
   ]
  },
  {
   "cell_type": "code",
   "execution_count": 8,
   "id": "28d14a32",
   "metadata": {},
   "outputs": [
    {
     "ename": "IndentationError",
     "evalue": "expected an indented block (Temp/ipykernel_13336/3304285933.py, line 3)",
     "output_type": "error",
     "traceback": [
      "\u001b[1;36m  File \u001b[1;32m\"C:\\Users\\2001s\\AppData\\Local\\Temp/ipykernel_13336/3304285933.py\"\u001b[1;36m, line \u001b[1;32m3\u001b[0m\n\u001b[1;33m    print(\"Coding is the best\")\u001b[0m\n\u001b[1;37m    ^\u001b[0m\n\u001b[1;31mIndentationError\u001b[0m\u001b[1;31m:\u001b[0m expected an indented block\n"
     ]
    }
   ],
   "source": [
    "s='Python'\n",
    "if s == 'Python':\n",
    "print(\"Coding is the best\")"
   ]
  },
  {
   "cell_type": "code",
   "execution_count": 9,
   "id": "8d00fad9",
   "metadata": {},
   "outputs": [
    {
     "name": "stdout",
     "output_type": "stream",
     "text": [
      "Coding is the best\n"
     ]
    }
   ],
   "source": [
    "s='Python'\n",
    "if s == 'Python':\n",
    "                     print(\"Coding is the best\")"
   ]
  },
  {
   "cell_type": "code",
   "execution_count": 10,
   "id": "64c561a5",
   "metadata": {},
   "outputs": [
    {
     "name": "stdout",
     "output_type": "stream",
     "text": [
      "Coding is the best\n"
     ]
    }
   ],
   "source": [
    "s='Python'\n",
    "if s == 'Python':\n",
    "  print(\"Coding is the best\")"
   ]
  },
  {
   "cell_type": "code",
   "execution_count": 11,
   "id": "baa6c136",
   "metadata": {},
   "outputs": [
    {
     "name": "stdout",
     "output_type": "stream",
     "text": [
      "Coding is the best\n"
     ]
    }
   ],
   "source": [
    "s='Python'\n",
    "if s == 'Python': print(\"Coding is the best\")"
   ]
  },
  {
   "cell_type": "code",
   "execution_count": 12,
   "id": "4716a317",
   "metadata": {},
   "outputs": [
    {
     "data": {
      "text/plain": [
       "True"
      ]
     },
     "execution_count": 12,
     "metadata": {},
     "output_type": "execute_result"
    }
   ],
   "source": [
    "'123'.isdigit()"
   ]
  },
  {
   "cell_type": "code",
   "execution_count": null,
   "id": "dc2d5106",
   "metadata": {},
   "outputs": [],
   "source": []
  }
 ],
 "metadata": {
  "kernelspec": {
   "display_name": "Python 3 (ipykernel)",
   "language": "python",
   "name": "python3"
  },
  "language_info": {
   "codemirror_mode": {
    "name": "ipython",
    "version": 3
   },
   "file_extension": ".py",
   "mimetype": "text/x-python",
   "name": "python",
   "nbconvert_exporter": "python",
   "pygments_lexer": "ipython3",
   "version": "3.9.5"
  }
 },
 "nbformat": 4,
 "nbformat_minor": 5
}
